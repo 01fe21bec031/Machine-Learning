{
  "nbformat": 4,
  "nbformat_minor": 0,
  "metadata": {
    "colab": {
      "provenance": []
    },
    "kernelspec": {
      "name": "python3",
      "display_name": "Python 3"
    },
    "language_info": {
      "name": "python"
    }
  },
  "cells": [
    {
      "cell_type": "code",
      "execution_count": null,
      "metadata": {
        "id": "hv7eBFHpvHud"
      },
      "outputs": [],
      "source": []
    },
    {
      "cell_type": "markdown",
      "source": [
        "**when the age is entered it has show minor or adult**"
      ],
      "metadata": {
        "id": "7mtg1C-svI5i"
      }
    },
    {
      "cell_type": "code",
      "source": [
        "\n",
        "age = int(input(\"Enter your age: \"))\n",
        "\n",
        "\n",
        "if age < 18:\n",
        "    print(\"You are a minor.\")\n",
        "else:\n",
        "    print(\"You are an adult.\")"
      ],
      "metadata": {
        "colab": {
          "base_uri": "https://localhost:8080/"
        },
        "id": "ASpZXiy4vTRp",
        "outputId": "7dee4b95-2cb0-449e-c830-c2054f53c2e5"
      },
      "execution_count": 1,
      "outputs": [
        {
          "output_type": "stream",
          "name": "stdout",
          "text": [
            "Enter your age: 20\n",
            "You are an adult.\n"
          ]
        }
      ]
    },
    {
      "cell_type": "code",
      "source": [],
      "metadata": {
        "id": "g4EhykzBvxJB"
      },
      "execution_count": null,
      "outputs": []
    },
    {
      "cell_type": "markdown",
      "source": [
        "solve for the given expression 22+4*5/2"
      ],
      "metadata": {
        "id": "IaQNYvbTv4Qn"
      }
    },
    {
      "cell_type": "code",
      "source": [
        "result = 22 + 4 * 5 / 2\n",
        "print(\"Result:\", result)"
      ],
      "metadata": {
        "colab": {
          "base_uri": "https://localhost:8080/"
        },
        "id": "npGoytvPwFq8",
        "outputId": "4ce91fcc-7bcb-444f-8353-28b27655a21a"
      },
      "execution_count": 2,
      "outputs": [
        {
          "output_type": "stream",
          "name": "stdout",
          "text": [
            "Result: 32.0\n"
          ]
        }
      ]
    },
    {
      "cell_type": "code",
      "source": [],
      "metadata": {
        "id": "rTgQkvOewSci"
      },
      "execution_count": null,
      "outputs": []
    },
    {
      "cell_type": "markdown",
      "source": [
        "To check male or female using if else statement"
      ],
      "metadata": {
        "id": "j8d06q6pwT5i"
      }
    },
    {
      "cell_type": "code",
      "source": [
        "gender = input(\"Please enter your gender (male/female): \")\n",
        "\n",
        "if gender.lower() == \"male\":\n",
        "    print(\"You are a male.\")\n",
        "elif gender.lower() == \"female\":\n",
        "    print(\"You are a female.\")\n",
        "else:\n",
        "    print(\"Gender not recognized.\")"
      ],
      "metadata": {
        "colab": {
          "base_uri": "https://localhost:8080/"
        },
        "id": "r3h_uDa1wgmI",
        "outputId": "191f8d20-ed9f-4049-af39-23547a723b4d"
      },
      "execution_count": 4,
      "outputs": [
        {
          "output_type": "stream",
          "name": "stdout",
          "text": [
            "Please enter your gender (male/female): female\n",
            "You are a female.\n"
          ]
        }
      ]
    },
    {
      "cell_type": "code",
      "source": [],
      "metadata": {
        "id": "Kw8JILEvwlv7"
      },
      "execution_count": null,
      "outputs": []
    },
    {
      "cell_type": "markdown",
      "source": [
        "To check even or odd using if statement"
      ],
      "metadata": {
        "id": "QQ4Yhb3Dw6b8"
      }
    },
    {
      "cell_type": "code",
      "source": [
        "num = int(input(\"Enter a number: \"))\n",
        "\n",
        "if num % 2 == 0:\n",
        "    print(\"The number is even.\")\n",
        "else:\n",
        "    print(\"The number is odd.\")"
      ],
      "metadata": {
        "colab": {
          "base_uri": "https://localhost:8080/"
        },
        "id": "pTdhOB8uxJ6V",
        "outputId": "bf31efb0-a594-4528-b323-3296f03e9d0c"
      },
      "execution_count": 5,
      "outputs": [
        {
          "output_type": "stream",
          "name": "stdout",
          "text": [
            "Enter a number: 4\n",
            "The number is even.\n"
          ]
        }
      ]
    },
    {
      "cell_type": "code",
      "source": [],
      "metadata": {
        "id": "ZKlGUy8UxSVS"
      },
      "execution_count": null,
      "outputs": []
    },
    {
      "cell_type": "markdown",
      "source": [
        "To identify the picked ball"
      ],
      "metadata": {
        "id": "PS6vckebxWeJ"
      }
    },
    {
      "cell_type": "code",
      "source": [
        "ball1_colour=\"green\"\n",
        "ball2_colour=\"blue\"\n",
        "ball3_colour=\"red\"\n",
        "ball4_colour=\"white\"\n",
        "\n",
        "pick_ball=input(\"please pick a ball\")\n",
        "\n",
        "if pick_ball ==ball1_colour:\n",
        "  print(\"Green ball is picked\")\n",
        "\n",
        "elif pick_ball==ball2_colour:\n",
        "  print(\"blue ball is picked\")\n",
        "\n",
        "elif pick_ball==ball3_colour:\n",
        "  print(\"red ball is picked\")\n",
        "\n",
        "else:\n",
        "  print(\"white ball is picked\")"
      ],
      "metadata": {
        "colab": {
          "base_uri": "https://localhost:8080/"
        },
        "id": "XkHWNvePxrXM",
        "outputId": "b18e1188-aeda-4220-edf5-f32bf5236661"
      },
      "execution_count": 6,
      "outputs": [
        {
          "output_type": "stream",
          "name": "stdout",
          "text": [
            "please pick a ballred\n",
            "red ball is picked\n"
          ]
        }
      ]
    },
    {
      "cell_type": "code",
      "source": [],
      "metadata": {
        "id": "LTYg_KqRxv6w"
      },
      "execution_count": null,
      "outputs": []
    }
  ]
}