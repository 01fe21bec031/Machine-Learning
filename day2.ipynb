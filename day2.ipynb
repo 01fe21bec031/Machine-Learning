{
  "nbformat": 4,
  "nbformat_minor": 0,
  "metadata": {
    "colab": {
      "provenance": []
    },
    "kernelspec": {
      "name": "python3",
      "display_name": "Python 3"
    },
    "language_info": {
      "name": "python"
    }
  },
  "cells": [
    {
      "cell_type": "code",
      "execution_count": null,
      "metadata": {
        "id": "WV0fGXDJLmQJ"
      },
      "outputs": [],
      "source": []
    },
    {
      "cell_type": "markdown",
      "source": [
        "Day 4 proceedings **Data types**"
      ],
      "metadata": {
        "id": "H8BujRVOPV3_"
      }
    },
    {
      "cell_type": "code",
      "source": [
        "name=\"Supriya\"\n",
        "print(type(name))"
      ],
      "metadata": {
        "colab": {
          "base_uri": "https://localhost:8080/"
        },
        "id": "EZKrUSIqPjQQ",
        "outputId": "0742878f-12b2-4554-9387-3b178c0bf639"
      },
      "execution_count": null,
      "outputs": [
        {
          "output_type": "stream",
          "name": "stdout",
          "text": [
            "<class 'str'>\n"
          ]
        }
      ]
    },
    {
      "cell_type": "code",
      "source": [
        "name2=\"supriya & 456\"\n",
        "print(type(name2))"
      ],
      "metadata": {
        "colab": {
          "base_uri": "https://localhost:8080/"
        },
        "id": "v8g1va6hPyCl",
        "outputId": "e9f1596c-57e5-4b29-9aa7-0748d4434b49"
      },
      "execution_count": null,
      "outputs": [
        {
          "output_type": "stream",
          "name": "stdout",
          "text": [
            "<class 'str'>\n"
          ]
        }
      ]
    },
    {
      "cell_type": "code",
      "source": [
        "num1=69\n",
        "num2=56.89\n",
        "num3=4j\n",
        "num4=-99\n",
        "print(type(num1))\n",
        "print(type(num2))\n",
        "print(type(num3))\n",
        "print(type(num4))"
      ],
      "metadata": {
        "colab": {
          "base_uri": "https://localhost:8080/"
        },
        "id": "A2HOe02OQA-j",
        "outputId": "6cb721b2-c809-49c3-89ae-143d017b2374"
      },
      "execution_count": null,
      "outputs": [
        {
          "output_type": "stream",
          "name": "stdout",
          "text": [
            "<class 'int'>\n",
            "<class 'float'>\n",
            "<class 'complex'>\n",
            "<class 'int'>\n"
          ]
        }
      ]
    },
    {
      "cell_type": "code",
      "source": [],
      "metadata": {
        "id": "XJQWFut4REU8"
      },
      "execution_count": null,
      "outputs": []
    },
    {
      "cell_type": "markdown",
      "source": [
        "sequence data type\n",
        "lists\n",
        "Tuples\n",
        "range\n",
        "\n",
        "1.ordered\n",
        "2.mutable\n",
        "3.Allow duplicates"
      ],
      "metadata": {
        "id": "R3N-5aTnRInB"
      }
    },
    {
      "cell_type": "code",
      "source": [
        "lis=['Supriya','456','30.45']\n",
        "type(lis)"
      ],
      "metadata": {
        "colab": {
          "base_uri": "https://localhost:8080/"
        },
        "id": "kuNnu6lcR_qt",
        "outputId": "c3db933e-218d-4882-ba29-17824776f547"
      },
      "execution_count": null,
      "outputs": [
        {
          "output_type": "execute_result",
          "data": {
            "text/plain": [
              "list"
            ]
          },
          "metadata": {},
          "execution_count": 5
        }
      ]
    },
    {
      "cell_type": "code",
      "source": [
        "print(lis)"
      ],
      "metadata": {
        "colab": {
          "base_uri": "https://localhost:8080/"
        },
        "id": "kdnz8agLSbVf",
        "outputId": "499ab0bc-063e-4996-9bfd-9dc2b44ee35a"
      },
      "execution_count": null,
      "outputs": [
        {
          "output_type": "stream",
          "name": "stdout",
          "text": [
            "['Supriya', '456', '30.45']\n"
          ]
        }
      ]
    },
    {
      "cell_type": "code",
      "source": [
        "lis2=['apple','500','India','apple']\n",
        "print(len(lis))\n",
        "print(len(lis2))\n",
        "lis3=lis+lis2\n",
        "print(lis3)\n",
        "print(len(lis3))"
      ],
      "metadata": {
        "colab": {
          "base_uri": "https://localhost:8080/"
        },
        "id": "7BGEx9TySmBI",
        "outputId": "7fd3530d-3943-4833-cea7-a50797db87ec"
      },
      "execution_count": null,
      "outputs": [
        {
          "output_type": "stream",
          "name": "stdout",
          "text": [
            "3\n",
            "4\n",
            "['Supriya', '456', '30.45', 'apple', '500', 'India', 'apple']\n",
            "7\n"
          ]
        }
      ]
    },
    {
      "cell_type": "code",
      "source": [
        "lis2.append(\"Hubli\")"
      ],
      "metadata": {
        "id": "HPC5iPzuS_8h"
      },
      "execution_count": null,
      "outputs": []
    },
    {
      "cell_type": "code",
      "source": [
        "lis2"
      ],
      "metadata": {
        "colab": {
          "base_uri": "https://localhost:8080/"
        },
        "id": "1SIMdxnQVtFO",
        "outputId": "c2d812c6-a804-4137-add8-6ff0df4bca1e"
      },
      "execution_count": null,
      "outputs": [
        {
          "output_type": "execute_result",
          "data": {
            "text/plain": [
              "['apple', '500', 'India', 'apple', 'Hubli']"
            ]
          },
          "metadata": {},
          "execution_count": 12
        }
      ]
    },
    {
      "cell_type": "code",
      "source": [
        "lis2.append(\"Supriya\")\n",
        "lis2"
      ],
      "metadata": {
        "colab": {
          "base_uri": "https://localhost:8080/"
        },
        "id": "U8WiBH9iVxc8",
        "outputId": "5ef7c448-a54e-449c-c1d6-97980a884a07"
      },
      "execution_count": null,
      "outputs": [
        {
          "output_type": "execute_result",
          "data": {
            "text/plain": [
              "['apple', '500', 'India', 'apple', 'Hubli', 'Supriya']"
            ]
          },
          "metadata": {},
          "execution_count": 13
        }
      ]
    },
    {
      "cell_type": "code",
      "source": [
        "lis2.clear()"
      ],
      "metadata": {
        "id": "22J1MZ3SV4AC"
      },
      "execution_count": null,
      "outputs": []
    },
    {
      "cell_type": "code",
      "source": [
        "lis2"
      ],
      "metadata": {
        "colab": {
          "base_uri": "https://localhost:8080/"
        },
        "id": "GN0Xsg-WV70g",
        "outputId": "22b6ad63-bfcb-4cb1-a36c-ed3b4135c8d3"
      },
      "execution_count": null,
      "outputs": [
        {
          "output_type": "execute_result",
          "data": {
            "text/plain": [
              "[]"
            ]
          },
          "metadata": {},
          "execution_count": 15
        }
      ]
    },
    {
      "cell_type": "code",
      "source": [
        "lis=['gg','ss','kle','aaa']\n",
        "lis[0]"
      ],
      "metadata": {
        "colab": {
          "base_uri": "https://localhost:8080/",
          "height": 36
        },
        "id": "Tcj18oJnV-IZ",
        "outputId": "b83a71b7-23c8-4c27-93f1-f477958bdd70"
      },
      "execution_count": null,
      "outputs": [
        {
          "output_type": "execute_result",
          "data": {
            "text/plain": [
              "'gg'"
            ],
            "application/vnd.google.colaboratory.intrinsic+json": {
              "type": "string"
            }
          },
          "metadata": {},
          "execution_count": 18
        }
      ]
    },
    {
      "cell_type": "code",
      "source": [
        "lis.sort()"
      ],
      "metadata": {
        "id": "A3QwFyH_WWlA"
      },
      "execution_count": null,
      "outputs": []
    },
    {
      "cell_type": "code",
      "source": [
        "lis"
      ],
      "metadata": {
        "colab": {
          "base_uri": "https://localhost:8080/"
        },
        "id": "938A7ooSWm7r",
        "outputId": "1dfcef48-eabe-464c-b743-1264e3817820"
      },
      "execution_count": null,
      "outputs": [
        {
          "output_type": "execute_result",
          "data": {
            "text/plain": [
              "['aaa', 'gg', 'kle', 'ss']"
            ]
          },
          "metadata": {},
          "execution_count": 20
        }
      ]
    },
    {
      "cell_type": "code",
      "source": [
        "tuple1=(\"Hubli\",\"Belgaum\",\"Hubli\")\n",
        "print(type(tuple1))\n",
        "tuple2=(\"Hubli\",)\n",
        "print(type(tuple2))\n",
        "tuple3=(1,2,3,4,5)\n",
        "print(type(tuple3))\n",
        "tuple4=(\"asdf\",\"123\",1,2,3,4,5,True)\n",
        "print(type(tuple4))\n",
        "\n",
        "tuple5=tuple((1,2,3,4,5))\n",
        "print(type(tuple5))"
      ],
      "metadata": {
        "colab": {
          "base_uri": "https://localhost:8080/"
        },
        "id": "_RMUgqUDWobW",
        "outputId": "318c31ce-b89e-4c5d-ecee-47f3b2b7b721"
      },
      "execution_count": null,
      "outputs": [
        {
          "output_type": "stream",
          "name": "stdout",
          "text": [
            "<class 'tuple'>\n",
            "<class 'tuple'>\n",
            "<class 'tuple'>\n",
            "<class 'tuple'>\n",
            "<class 'tuple'>\n"
          ]
        }
      ]
    },
    {
      "cell_type": "markdown",
      "source": [
        "Tuple -->storing multiple items in a single variable\n",
        "1.ordered\n",
        "2.Unchangable\n",
        "3.duplicates\n",
        "\n",
        "\n",
        "1.How do we access"
      ],
      "metadata": {
        "id": "60SGJ4aEXFcX"
      }
    },
    {
      "cell_type": "code",
      "source": [],
      "metadata": {
        "id": "qBlH0WteZ4TP"
      },
      "execution_count": null,
      "outputs": []
    }
  ]
}